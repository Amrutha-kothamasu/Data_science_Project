{
  "nbformat": 4,
  "nbformat_minor": 0,
  "metadata": {
    "colab": {
      "provenance": []
    },
    "kernelspec": {
      "name": "python3",
      "display_name": "Python 3"
    },
    "language_info": {
      "name": "python"
    }
  },
  "cells": [
    {
      "cell_type": "markdown",
      "source": [
        "**STOCK PRICE PREDICTION**\n",
        "\n",
        "importing the data from the google"
      ],
      "metadata": {
        "id": "Em8tH5h6Xni5"
      }
    },
    {
      "cell_type": "code",
      "execution_count": null,
      "metadata": {
        "id": "2faaFjM1E8i3",
        "colab": {
          "base_uri": "https://localhost:8080/"
        },
        "outputId": "1492f0b5-ec61-4a29-cc2e-5ceb922be4eb"
      },
      "outputs": [
        {
          "output_type": "stream",
          "name": "stdout",
          "text": [
            "\r[*********************100%***********************]  1 of 1 completed\n",
            "                 Open       High        Low      Close  Adj Close     Volume\n",
            "Date                                                                        \n",
            "2012-01-03  16.339840  16.720470  16.325577  16.651901  16.651901  146912940\n",
            "2012-01-04  16.642391  16.773024  16.532032  16.723724  16.723724  114445440\n",
            "2012-01-05  16.569820  16.615866  16.422173  16.491741  16.491741  131184684\n",
            "2012-01-06  16.495245  16.516518  16.261011  16.266768  16.266768  107608284\n",
            "2012-01-09  16.178679  16.191191  15.546296  15.577077  15.577077  232671096\n",
            "...               ...        ...        ...        ...        ...        ...\n",
            "2016-12-22  40.455002  40.553501  40.301498  40.484001  40.484001   22632000\n",
            "2016-12-23  40.400501  40.548500  40.255501  40.389999  40.389999   15310000\n",
            "2016-12-27  40.433998  40.799999  40.290001  40.496498  40.496498   19520000\n",
            "2016-12-28  40.666500  40.666500  40.122002  40.228500  40.228500   24296000\n",
            "2016-12-29  40.116501  40.287498  39.907001  40.144001  40.144001   21148000\n",
            "\n",
            "[1257 rows x 6 columns]\n"
          ]
        }
      ],
      "source": [
        "import yfinance as yf\n",
        "\n",
        "# Define the ticker symbol for Google (GOOGL)\n",
        "ticker = \"GOOGL\"\n",
        "\n",
        "# Set the start and end dates for the data\n",
        "start_date = \"2012-01-03\"\n",
        "end_date = \"2016-12-30\"\n",
        "\n",
        "# Fetch the historical data from Yahoo Finance\n",
        "data = yf.download(ticker, start=start_date, end=end_date)\n",
        "\n",
        "# Print the data\n",
        "print(data)\n",
        "data.to_csv(\"google_stock_prices.csv\")\n"
      ]
    },
    {
      "cell_type": "markdown",
      "source": [
        "importing necessary libraries\n"
      ],
      "metadata": {
        "id": "-9vckdVBX56i"
      }
    },
    {
      "cell_type": "code",
      "source": [
        "import pandas as pd\n",
        "import matplotlib.pyplot as plt\n",
        "from sklearn.model_selection import train_test_split\n",
        "from sklearn.linear_model import LinearRegression\n",
        "from sklearn.metrics import mean_squared_error\n"
      ],
      "metadata": {
        "id": "1CTC6rG3X991"
      },
      "execution_count": null,
      "outputs": []
    },
    {
      "cell_type": "markdown",
      "source": [
        "importing the dataset"
      ],
      "metadata": {
        "id": "15copnULYBDd"
      }
    },
    {
      "cell_type": "code",
      "source": [
        "# Load the historical stock price dataset\n",
        "data = pd.read_csv(\"google_stock_prices.csv\")  # Replace with the path to your dataset"
      ],
      "metadata": {
        "id": "yj2VjSD2YDV0"
      },
      "execution_count": null,
      "outputs": []
    },
    {
      "cell_type": "markdown",
      "source": [
        "Checking for NULL Values"
      ],
      "metadata": {
        "id": "n54fAKp1YOvw"
      }
    },
    {
      "cell_type": "code",
      "source": [
        "print(\"Null Values:\\n\", data.isnull().sum())"
      ],
      "metadata": {
        "colab": {
          "base_uri": "https://localhost:8080/"
        },
        "id": "uJ-s_VDOYRku",
        "outputId": "cebbfcdf-868a-4df2-cb23-a68afffa7f0f"
      },
      "execution_count": null,
      "outputs": [
        {
          "output_type": "stream",
          "name": "stdout",
          "text": [
            "Null Values:\n",
            " Date         0\n",
            "Open         0\n",
            "High         0\n",
            "Low          0\n",
            "Close        0\n",
            "Adj Close    0\n",
            "Volume       0\n",
            "dtype: int64\n"
          ]
        }
      ]
    },
    {
      "cell_type": "markdown",
      "source": [
        "DATA PREPROCESSING"
      ],
      "metadata": {
        "id": "sTi9Mb4OYfSM"
      }
    },
    {
      "cell_type": "code",
      "source": [
        "# Data preprocessing\n",
        "# Assuming the dataset has columns: Date, Open, Close, High, Low, Volume\n",
        "# You may need to adjust column names or perform additional preprocessing based on your dataset\n",
        "\n",
        "\n",
        "# Split the dataset into features (X) and target variable (y)\n",
        "X = data[['Open', 'High', 'Low', 'Volume']]  # Adjust column names as needed\n",
        "y = data['Close']  # Adjust column name as needed\n",
        "\n",
        "print(\"X shape:\", X.shape)\n",
        "print(\"y shape:\", y.shape)\n",
        "\n",
        "# Split the data into training and testing sets\n",
        "X_train, X_test, y_train, y_test = train_test_split(X, y, test_size=0.2, random_state=42)\n",
        "\n",
        "print(\"X_train shape:\", X_train.shape)\n",
        "print(\"X_test shape:\", X_test.shape)\n",
        "print(\"y_train shape:\", y_train.shape)\n",
        "print(\"y_test shape:\", y_test.shape)\n"
      ],
      "metadata": {
        "colab": {
          "base_uri": "https://localhost:8080/"
        },
        "id": "4vp_e8AoYhIg",
        "outputId": "f445abfc-cb4f-4dbc-eef3-54d0817d8ef4"
      },
      "execution_count": null,
      "outputs": [
        {
          "output_type": "stream",
          "name": "stdout",
          "text": [
            "X shape: (1257, 4)\n",
            "y shape: (1257,)\n",
            "X_train shape: (1005, 4)\n",
            "X_test shape: (252, 4)\n",
            "y_train shape: (1005,)\n",
            "y_test shape: (252,)\n"
          ]
        }
      ]
    },
    {
      "cell_type": "markdown",
      "source": [
        "APPLYING ML ALGORITHMIS"
      ],
      "metadata": {
        "id": "43XDBkZhYup4"
      }
    },
    {
      "cell_type": "code",
      "source": [
        "# Choose a model (linear regression in this example)\n",
        "model = LinearRegression()\n",
        "\n",
        "# Train the model\n",
        "model.fit(X_train, y_train)\n",
        "\n",
        "# Make predictions\n",
        "y_pred = model.predict(X_test)\n",
        "\n",
        "# Evaluate the model\n",
        "mse = mean_squared_error(y_test, y_pred)\n",
        "print(\"Mean Squared Error:\", mse)\n"
      ],
      "metadata": {
        "colab": {
          "base_uri": "https://localhost:8080/"
        },
        "id": "1KNVFiSCY4Kp",
        "outputId": "2f0636f6-9edb-4fe4-8ca3-3cbd97fee8ac"
      },
      "execution_count": null,
      "outputs": [
        {
          "output_type": "stream",
          "name": "stdout",
          "text": [
            "Mean Squared Error: 0.019274365662564238\n"
          ]
        }
      ]
    },
    {
      "cell_type": "markdown",
      "source": [
        "GRAP PLOT\n"
      ],
      "metadata": {
        "id": "-q0byykYZNxO"
      }
    },
    {
      "cell_type": "code",
      "source": [
        "# Plot the predicted values against the actual values\n",
        "plt.figure(figsize=(10, 6))\n",
        "plt.scatter(y_test, y_pred, color='blue', alpha=0.5)\n",
        "plt.plot(y_test, y_test, color='red')\n",
        "plt.xlabel('Actual Close Price')\n",
        "plt.ylabel('Predicted Close Price')\n",
        "plt.title('Actual vs Predicted Close Price')\n",
        "plt.show()"
      ],
      "metadata": {
        "colab": {
          "base_uri": "https://localhost:8080/",
          "height": 564
        },
        "id": "LiG2l1HeZQRS",
        "outputId": "c662af15-1c97-4f1a-a750-9199b3d06c20"
      },
      "execution_count": null,
      "outputs": [
        {
          "output_type": "display_data",
          "data": {
            "text/plain": [
              "<Figure size 1000x600 with 1 Axes>"
            ],
            "image/png": "[encoded data removed]"
          },
          "metadata": {}
        }
      ]
    },
    {
      "cell_type": "code",
      "source": [
        "# Get the final prediction for a new data point\n",
        "new_data = X_test.iloc[0].values.reshape(1, -1)\n",
        "final_prediction = model.predict(new_data)\n",
        "print(\"Final Prediction:\", final_prediction)\n"
      ],
      "metadata": {
        "colab": {
          "base_uri": "https://localhost:8080/"
        },
        "id": "UGSw3_mmZm74",
        "outputId": "89f5b13c-501f-46b4-b31e-2167829e2883"
      },
      "execution_count": null,
      "outputs": [
        {
          "output_type": "stream",
          "name": "stdout",
          "text": [
            "Final Prediction: [22.01210248]\n"
          ]
        },
        {
          "output_type": "stream",
          "name": "stderr",
          "text": [
            "/usr/local/lib/python3.10/dist-packages/sklearn/base.py:439: UserWarning: X does not have valid feature names, but LinearRegression was fitted with feature names\n",
            "  warnings.warn(\n"
          ]
        }
      ]
    },
    {
      "cell_type": "code",
      "source": [],
      "metadata": {
        "id": "bmMCwfIuZz5X"
      },
      "execution_count": null,
      "outputs": []
    }
  ]
}